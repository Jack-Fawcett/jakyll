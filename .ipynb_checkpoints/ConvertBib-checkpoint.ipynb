{
 "cells": [
  {
   "cell_type": "code",
   "execution_count": 1,
   "id": "1955859e-5f68-4a7d-878f-41480eaa96ab",
   "metadata": {},
   "outputs": [],
   "source": [
    "import pandas as pd\n",
    "from xml.dom import minidom"
   ]
  },
  {
   "cell_type": "code",
   "execution_count": 29,
   "id": "fc0e2662-4dbe-4042-bf00-e5ac193d94b1",
   "metadata": {},
   "outputs": [],
   "source": [
    "xmldoc = minidom.parse('My Collection.xml')\n",
    "records = xmldoc.getElementsByTagName('record')"
   ]
  },
  {
   "cell_type": "code",
   "execution_count": 74,
   "id": "be9257fa-195b-42c8-9cd3-4fce0ce49b63",
   "metadata": {},
   "outputs": [],
   "source": [
    "fields = ['title', 'year']"
   ]
  },
  {
   "cell_type": "code",
   "execution_count": 87,
   "id": "a5338dce-cdae-459e-a660-e8d58a61cd04",
   "metadata": {},
   "outputs": [],
   "source": [
    "field_dict = {}\n",
    "for field in fields:\n",
    "    field_dict[field] = [x.firstChild.nodeValue for x in xmldoc.getElementsByTagName(field)]"
   ]
  },
  {
   "cell_type": "code",
   "execution_count": 88,
   "id": "be6c907f-54d8-4c6e-8188-851cc6835543",
   "metadata": {},
   "outputs": [],
   "source": [
    "list_fields = ['authors', 'keywords']"
   ]
  },
  {
   "cell_type": "code",
   "execution_count": 91,
   "id": "5a83a972-7487-454d-91ea-b0063e4a54b3",
   "metadata": {},
   "outputs": [],
   "source": [
    "for field in list_fields:\n",
    "    field_dict[field] = [', '.join([y.firstChild.nodeValue for y in x.childNodes]) for x in xmldoc.getElementsByTagName(field)]"
   ]
  },
  {
   "cell_type": "code",
   "execution_count": 95,
   "id": "7de00cfa-d84c-496b-89bf-8dcb6ea7941e",
   "metadata": {},
   "outputs": [],
   "source": [
    "pd.DataFrame(field_dict).sort_values(['year', 'title'], ascending=False).to_csv('_data/paper.csv', index=False)"
   ]
  },
  {
   "cell_type": "code",
   "execution_count": null,
   "id": "b0e7a10f-a171-4624-97ae-99efe20b673d",
   "metadata": {},
   "outputs": [],
   "source": []
  }
 ],
 "metadata": {
  "kernelspec": {
   "display_name": "Python 3",
   "language": "python",
   "name": "python3"
  },
  "language_info": {
   "codemirror_mode": {
    "name": "ipython",
    "version": 3
   },
   "file_extension": ".py",
   "mimetype": "text/x-python",
   "name": "python",
   "nbconvert_exporter": "python",
   "pygments_lexer": "ipython3",
   "version": "3.9.4"
  }
 },
 "nbformat": 4,
 "nbformat_minor": 5
}
